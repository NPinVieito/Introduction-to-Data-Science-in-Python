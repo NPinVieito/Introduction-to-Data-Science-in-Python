{
 "cells": [
  {
   "attachments": {},
   "cell_type": "markdown",
   "metadata": {
    "deletable": false,
    "editable": false,
    "etc_identifier": "653a3605-5bda-4e1f-beef-04a0173d3f41",
    "nbgrader": {
     "cell_type": "markdown",
     "checksum": "60da2e57814a61cf6a81dd670bf35473",
     "grade": false,
     "grade_id": "cell-a6c4f74309fc2379",
     "locked": true,
     "schema_version": 3,
     "solution": false
    }
   },
   "source": [
    "# Assignment 4\n",
    "## Description\n",
    "In this assignment you must read in a file of metropolitan regions and associated sports teams from [assets/wikipedia_data.html](assets/wikipedia_data.html) and answer some questions about each metropolitan region. Each of these regions may have one or more teams from the \"Big 4\": NFL (football, in [assets/nfl.csv](assets/nfl.csv)), MLB (baseball, in [assets/mlb.csv](assets/mlb.csv)), NBA (basketball, in [assets/nba.csv](assets/nba.csv) or NHL (hockey, in [assets/nhl.csv](assets/nhl.csv)). Please keep in mind that all questions are from the perspective of the metropolitan region, and that this file is the \"source of authority\" for the location of a given sports team. Thus teams which are commonly known by a different area (e.g. \"Oakland Raiders\") need to be mapped into the metropolitan region given (e.g. San Francisco Bay Area). This will require some human data understanding outside of the data you've been given (e.g. you will have to hand-code some names, and might need to google to find out where teams are)!\n",
    "\n",
    "For each sport I would like you to answer the question: **what is the win/loss ratio's correlation with the population of the city it is in?** Win/Loss ratio refers to the number of wins over the number of wins plus the number of losses. Remember that to calculate the correlation with [`pearsonr`](https://docs.scipy.org/doc/scipy/reference/generated/scipy.stats.pearsonr.html), so you are going to send in two ordered lists of values, the populations from the wikipedia_data.html file and the win/loss ratio for a given sport in the same order. Average the win/loss ratios for those cities which have multiple teams of a single sport. Each sport is worth an equal amount in this assignment (20%\\*4=80%) of the grade for this assignment. You should only use data **from year 2018** for your analysis -- this is important!\n",
    "\n",
    "## Notes\n",
    "\n",
    "1. Do not include data about the MLS or CFL in any of the work you are doing, we're only interested in the Big 4 in this assignment.\n",
    "2. I highly suggest that you first tackle the four correlation questions in order, as they are all similar and worth the majority of grades for this assignment. This is by design!\n",
    "3. It's fair game to talk with peers about high level strategy as well as the relationship between metropolitan areas and sports teams. However, do not post code solving aspects of the assignment (including such as dictionaries mapping areas to teams, or regexes which will clean up names).\n",
    "4. There may be more teams than the assert statements test, remember to collapse multiple teams in one city into a single value!\n",
    "\n",
    "As this assignment utilizes global variables in the skeleton code, to avoid having errors in your code you can either:\n",
    "\n",
    "1. You can place all of your code within the function definitions for all of the questions (other than import statements).\n",
    "2. You can create copies of all the global variables with the copy() method and proceed as usual."
   ]
  },
  {
   "attachments": {},
   "cell_type": "markdown",
   "metadata": {
    "deletable": false,
    "editable": false,
    "nbgrader": {
     "cell_type": "markdown",
     "checksum": "369ff9ecf0ee04640574205cbc697f94",
     "grade": false,
     "grade_id": "cell-712b2b5da63d4505",
     "locked": true,
     "schema_version": 3,
     "solution": false
    }
   },
   "source": [
    "## Question 1\n",
    "For this question, calculate the win/loss ratio's correlation with the population of the city it is in for the **NHL** using **2018** data."
   ]
  },
  {
   "cell_type": "code",
   "execution_count": 173,
   "metadata": {
    "deletable": false,
    "nbgrader": {
     "cell_type": "code",
     "checksum": "1cac4803b02502929f5b1612d48db2b5",
     "grade": false,
     "grade_id": "cell-69b16e4386e58030",
     "locked": false,
     "schema_version": 3,
     "solution": true
    }
   },
   "outputs": [
    {
     "name": "stderr",
     "output_type": "stream",
     "text": [
      "C:\\Users\\User\\AppData\\Local\\Temp\\ipykernel_10628\\1789210980.py:35: FutureWarning: The provided callable <function mean at 0x0000028B6609BA60> is currently using SeriesGroupBy.mean. In a future version of pandas, the provided callable will be used directly. To keep current behavior pass the string \"mean\" instead.\n",
      "  resultado_final=df_group.agg({'Population':np.mean,'NHL': np.size, 'W/L Ratio': np.mean}).sort_values(by='Population', ascending=False).reset_index() #de este modo resultado_final es un df y con reset_index sacamos\n",
      "C:\\Users\\User\\AppData\\Local\\Temp\\ipykernel_10628\\1789210980.py:35: FutureWarning: The provided callable <function mean at 0x0000028B6609BA60> is currently using SeriesGroupBy.mean. In a future version of pandas, the provided callable will be used directly. To keep current behavior pass the string \"mean\" instead.\n",
      "  resultado_final=df_group.agg({'Population':np.mean,'NHL': np.size, 'W/L Ratio': np.mean}).sort_values(by='Population', ascending=False).reset_index() #de este modo resultado_final es un df y con reset_index sacamos\n"
     ]
    },
    {
     "data": {
      "text/plain": [
       "0.012486162921209914"
      ]
     },
     "execution_count": 173,
     "metadata": {},
     "output_type": "execute_result"
    }
   ],
   "source": [
    "import pandas as pd\n",
    "import numpy as np\n",
    "import scipy.stats as stats\n",
    "import re\n",
    "\n",
    "def nhl_correlation(): \n",
    "    \n",
    "    nhl_df=pd.read_csv(\"assets/nhl.csv\")\n",
    "    cities=pd.read_html(\"assets/wikipedia_data.html\")[1]\n",
    "    cities=cities.iloc[:-1,[0,3,5,6,7,8]]#seleccion de las filas y columnas de cities que interesan\n",
    "    \n",
    "    #clean\n",
    "    nhl_df_clean=nhl_df[(nhl_df['year']==2018)&(~nhl_df['team'].str.contains(r'Division', regex=True, case=False))].iloc[:,[0,2,3]].reset_index(drop=True)\n",
    "                #filtra para que year==2018 y team NO (~) contenga la cadena 'Division' #muestra todas las filas pero sólo columnas 0,2,3 #resetea indice\n",
    "    nhl_df_clean['team']=nhl_df_clean['team'].apply(lambda x: re.sub(r'\\*', '', x).split()[-1])#elimina el asterisco, divide palabras y se queda con la ultima palabra\n",
    "    nhl_df_clean['W/L Ratio']=nhl_df_clean['W'].astype(float)/(nhl_df_clean['W'].astype(float)+nhl_df_clean['L'].astype(float))#creacion de ratio\n",
    "    nhl_df_clean.rename(columns={\"team\": \"NHL\"}, inplace=True)#cambiar nombre para campo comun con mismo nombre\n",
    "    \n",
    "    cities_clean=cities[(cities['NHL']!=chr(8212))&(~cities['NHL'].str.contains(r'^\\[note[^\\]]*\\]', regex=True, case=False))].iloc[:,[0,1,5]].reset_index(drop=True)\n",
    "    cities_clean['NHL']=cities_clean['NHL'].apply(lambda x: re.sub(r'\\[[^\\]]*\\]', '', x).split()[-1])\n",
    "    cities_clean.rename(columns={\"Population (2016 est.)[8]\": \"Population\"}, inplace=True)#cambiar nombre para mayor legibilidad\n",
    "    \n",
    "    #añadir manualmente los equipos que faltan a las areas metropolitanas\n",
    "    nuevas_filas = pd.DataFrame({'Metropolitan area': ['New York City', 'New York City', 'Los Angeles'],\n",
    "                                 'Population': ['20153634', '20153634', '13310447'],\n",
    "                                 'NHL':['Rangers','Islanders','Kings']\n",
    "                                })\n",
    "    #diccionario_poblacion = cities_clean.set_index('Metropolitan area')['Population'].to_dict()#crear diccionario de poblaciones\n",
    "    cities_clean = pd.concat([cities_clean, nuevas_filas], ignore_index=True)\n",
    "    cities_clean['Population'] = pd.to_numeric(cities_clean['Population'], errors='coerce')\n",
    "    #merge dfs\n",
    "    df_merge = pd.merge(cities_clean, nhl_df_clean, on='NHL', how='right')\n",
    "    #una fila por area con Groupby\n",
    "    df_group=df_merge.groupby('Metropolitan area')#para poder acceder a las columnas de un Groupby hay que transformarlo en df. \n",
    "    resultado_final=df_group.agg({'Population':np.mean,'NHL': np.size, 'W/L Ratio': np.mean}).sort_values(by='Population', ascending=False).reset_index() #de este modo resultado_final es un df y con reset_index sacamos \n",
    "                                                                                                                                                            #la variable de agrupacion del indice\n",
    "    #print(resultado_final)   \n",
    "    #raise NotImplementedError()\n",
    "\n",
    "    #--------------------------------------------------------------------------------------------------------------\n",
    "    population_by_region = list(resultado_final['Population']) # pass in metropolitan area population from cities\n",
    "    win_loss_by_region = list(resultado_final['W/L Ratio']) # pass in win/loss ratio from nhl_df in the same order as cities[\"Metropolitan area\"]\n",
    "\n",
    "    assert len(population_by_region) == len(win_loss_by_region), \"Q1: Your lists must be the same length\"\n",
    "    assert len(population_by_region) == 28, \"Q1: There should be 28 teams being analysed for NHL\"\n",
    "    \n",
    "    return stats.pearsonr(population_by_region, win_loss_by_region)[0]#hay que extraer el coeficiente solo sin pval\n",
    "nhl_correlation()"
   ]
  },
  {
   "cell_type": "code",
   "execution_count": null,
   "metadata": {
    "deletable": false,
    "editable": false,
    "nbgrader": {
     "cell_type": "code",
     "checksum": "52a581df513c71153e105b93764cda4b",
     "grade": true,
     "grade_id": "cell-ebe0b2dfe1067e63",
     "locked": true,
     "points": 20,
     "schema_version": 3,
     "solution": false
    }
   },
   "outputs": [],
   "source": []
  },
  {
   "attachments": {},
   "cell_type": "markdown",
   "metadata": {
    "deletable": false,
    "editable": false,
    "nbgrader": {
     "cell_type": "markdown",
     "checksum": "988912cae4968d81473f46d783e79c16",
     "grade": false,
     "grade_id": "cell-cb964e690298b71d",
     "locked": true,
     "schema_version": 3,
     "solution": false
    }
   },
   "source": [
    "## Question 2\n",
    "For this question, calculate the win/loss ratio's correlation with the population of the city it is in for the **NBA** using **2018** data."
   ]
  },
  {
   "cell_type": "code",
   "execution_count": 197,
   "metadata": {
    "deletable": false,
    "nbgrader": {
     "cell_type": "code",
     "checksum": "9394222aafc8ccab0a228098ba0d6010",
     "grade": false,
     "grade_id": "cell-5a5f21279e3d3572",
     "locked": false,
     "schema_version": 3,
     "solution": true
    }
   },
   "outputs": [
    {
     "name": "stderr",
     "output_type": "stream",
     "text": [
      "C:\\Users\\User\\AppData\\Local\\Temp\\ipykernel_10628\\632197834.py:35: FutureWarning: The provided callable <function mean at 0x0000028B6609BA60> is currently using SeriesGroupBy.mean. In a future version of pandas, the provided callable will be used directly. To keep current behavior pass the string \"mean\" instead.\n",
      "  resultado_final=df_group.agg({'Population':np.mean,'NBA': np.size, 'W/L Ratio': np.mean}).sort_values(by='Population', ascending=False).reset_index()\n",
      "C:\\Users\\User\\AppData\\Local\\Temp\\ipykernel_10628\\632197834.py:35: FutureWarning: The provided callable <function mean at 0x0000028B6609BA60> is currently using SeriesGroupBy.mean. In a future version of pandas, the provided callable will be used directly. To keep current behavior pass the string \"mean\" instead.\n",
      "  resultado_final=df_group.agg({'Population':np.mean,'NBA': np.size, 'W/L Ratio': np.mean}).sort_values(by='Population', ascending=False).reset_index()\n"
     ]
    },
    {
     "data": {
      "text/plain": [
       "PearsonRResult(statistic=-0.17657160252844617, pvalue=0.3687474160446289)"
      ]
     },
     "execution_count": 197,
     "metadata": {},
     "output_type": "execute_result"
    }
   ],
   "source": [
    "import pandas as pd\n",
    "import numpy as np\n",
    "import scipy.stats as stats\n",
    "import re\n",
    "\n",
    "\n",
    "def nba_correlation():\n",
    "\n",
    "    nba_df=pd.read_csv(\"assets/nba.csv\")\n",
    "    cities=pd.read_html(\"assets/wikipedia_data.html\")[1]\n",
    "    cities=cities.iloc[:-1,[0,3,5,6,7,8]]\n",
    "\n",
    "    nba_df_clean=nba_df[(nba_df['year']==2018)].iloc[:,[0,1,2,3]].reset_index(drop=True)\n",
    "    nba_df_clean['team']=nba_df_clean['team'].apply(lambda x: re.sub(r'\\([^\\]]*\\)', '', x))\n",
    "    nba_df_clean['team']=nba_df_clean['team'].apply(lambda x: re.sub(r'\\*', '', x).split()[-1])\n",
    "    nba_df_clean['W/L Ratio']=nba_df_clean['W'].astype(float)/(nba_df_clean['W'].astype(float)+nba_df_clean['L'].astype(float))\n",
    "    nba_df_clean.rename(columns={\"team\": \"NBA\"}, inplace=True)\n",
    "\n",
    "    cities_clean=cities[(cities['NBA']!=chr(8212))&(~cities['NBA'].str.contains(r'^\\[note[^\\]]*\\]', regex=True, case=False))].iloc[:,[0,1,4]].reset_index(drop=True)\n",
    "    cities_clean['NBA']=cities_clean['NBA'].apply(lambda x: re.sub(r'\\[[^\\]]*\\]', '', x).split()[-1])\n",
    "    cities_clean.rename(columns={\"Population (2016 est.)[8]\": \"Population\"}, inplace=True)#cambiar nombre para mayor legibilidad\n",
    "\n",
    "    nuevas_filas = pd.DataFrame({'Metropolitan area': ['New York City','Los Angeles'],\n",
    "                                 'Population': ['20153634','13310447'],\n",
    "                                 'NBA':['Knicks','Lakers']\n",
    "                                })\n",
    "    #diccionario_poblacion = cities_clean.set_index('Metropolitan area')['Population'].to_dict()#crear diccionario de poblaciones\n",
    "    cities_clean = pd.concat([cities_clean, nuevas_filas], ignore_index=True)\n",
    "    cities_clean['Population'] = pd.to_numeric(cities_clean['Population'], errors='coerce')\n",
    "\n",
    "    #merge dfs\n",
    "    df_merge = pd.merge(cities_clean, nba_df_clean, on='NBA', how='right')\n",
    "    #una fila por area con Groupby\n",
    "    df_group=df_merge.groupby('Metropolitan area')#para poder acceder a las columnas de un Groupby hay que transformarlo en df. \n",
    "    resultado_final=df_group.agg({'Population':np.mean,'NBA': np.size, 'W/L Ratio': np.mean}).sort_values(by='Population', ascending=False).reset_index()\n",
    "    \n",
    "    #raise NotImplementedError()\n",
    "    \n",
    "    population_by_region = list(resultado_final['Population']) # pass in metropolitan area population from cities\n",
    "    win_loss_by_region = list(resultado_final['W/L Ratio']) # pass in win/loss ratio from nhl_df in the same order as cities[\"Metropolitan area\"]\n",
    "\n",
    "    assert len(population_by_region) == len(win_loss_by_region), \"Q2: Your lists must be the same length\"\n",
    "    assert len(population_by_region) == 28, \"Q2: There should be 28 teams being analysed for NBA\"\n",
    "\n",
    "    return stats.pearsonr(population_by_region, win_loss_by_region)[0]\n",
    "nba_correlation()"
   ]
  },
  {
   "cell_type": "code",
   "execution_count": null,
   "metadata": {
    "deletable": false,
    "editable": false,
    "nbgrader": {
     "cell_type": "code",
     "checksum": "bbdeb8eb22f525a34c10dc8798324e42",
     "grade": true,
     "grade_id": "cell-e573b2b4a282b470",
     "locked": true,
     "points": 20,
     "schema_version": 3,
     "solution": false
    }
   },
   "outputs": [],
   "source": []
  },
  {
   "attachments": {},
   "cell_type": "markdown",
   "metadata": {
    "deletable": false,
    "editable": false,
    "nbgrader": {
     "cell_type": "markdown",
     "checksum": "1a1a5809f675ca033086422007cd73bd",
     "grade": false,
     "grade_id": "cell-96e15e4335df78f4",
     "locked": true,
     "schema_version": 3,
     "solution": false
    }
   },
   "source": [
    "## Question 3\n",
    "For this question, calculate the win/loss ratio's correlation with the population of the city it is in for the **MLB** using **2018** data."
   ]
  },
  {
   "cell_type": "code",
   "execution_count": 226,
   "metadata": {
    "deletable": false,
    "nbgrader": {
     "cell_type": "code",
     "checksum": "27e8c0da6c9fa0dffc10488314335b6c",
     "grade": false,
     "grade_id": "cell-33b00fc3f3467b0c",
     "locked": false,
     "schema_version": 3,
     "solution": true
    }
   },
   "outputs": [
    {
     "name": "stderr",
     "output_type": "stream",
     "text": [
      "C:\\Users\\User\\AppData\\Local\\Temp\\ipykernel_10628\\1819660018.py:34: FutureWarning: The provided callable <function mean at 0x0000028B6609BA60> is currently using SeriesGroupBy.mean. In a future version of pandas, the provided callable will be used directly. To keep current behavior pass the string \"mean\" instead.\n",
      "  resultado_final=df_group.agg({'Population':np.mean,'MLB': np.size, 'W/L Ratio': np.mean}).sort_values(by='Population', ascending=False).reset_index()\n",
      "C:\\Users\\User\\AppData\\Local\\Temp\\ipykernel_10628\\1819660018.py:34: FutureWarning: The provided callable <function mean at 0x0000028B6609BA60> is currently using SeriesGroupBy.mean. In a future version of pandas, the provided callable will be used directly. To keep current behavior pass the string \"mean\" instead.\n",
      "  resultado_final=df_group.agg({'Population':np.mean,'MLB': np.size, 'W/L Ratio': np.mean}).sort_values(by='Population', ascending=False).reset_index()\n"
     ]
    },
    {
     "data": {
      "text/plain": [
       "0.15027698302669307"
      ]
     },
     "execution_count": 226,
     "metadata": {},
     "output_type": "execute_result"
    }
   ],
   "source": [
    "import pandas as pd\n",
    "import numpy as np\n",
    "import scipy.stats as stats\n",
    "import re\n",
    "\n",
    "\n",
    "def mlb_correlation(): \n",
    "    \n",
    "    mlb_df=pd.read_csv(\"assets/mlb.csv\")\n",
    "    cities=pd.read_html(\"assets/wikipedia_data.html\")[1]\n",
    "    cities=cities.iloc[:-1,[0,3,5,6,7,8]]\n",
    "\n",
    "    mlb_df_clean=mlb_df[(mlb_df['year']==2018)].iloc[:,[0,1,2,3]].reset_index(drop=True)\n",
    "    mlb_df_clean['team']=mlb_df_clean['team'].apply(lambda x: x.split()[-1] if 'Sox' not in x else (x.split()[-2]+' '+x.split()[-1]) )\n",
    "    mlb_df_clean['W/L Ratio']=mlb_df_clean['W'].astype(float)/(mlb_df_clean['W'].astype(float)+mlb_df_clean['L'].astype(float))\n",
    "    mlb_df_clean.rename(columns={\"team\": \"MLB\"}, inplace=True)\n",
    "\n",
    "    cities_clean=cities[(cities['MLB']!=chr(8212))&(~cities['MLB'].str.contains(r'^\\[note[^\\]]*\\]', regex=True, case=False))].iloc[:,[0,1,3]].reset_index(drop=True)\n",
    "    cities_clean['MLB']=cities_clean['MLB'].apply(lambda x: re.sub(r'\\[[^\\]]*\\]', '', x).split()[-1] if 'Sox' not in x else (re.sub(r'\\[[^\\]]*\\]', '', x).split()[-2]+' '+re.sub(r'\\[[^\\]]*\\]', '', x).split()[-1]))\n",
    "    cities_clean.rename(columns={\"Population (2016 est.)[8]\": \"Population\"}, inplace=True)#cambiar nombre para mayor legibilidad\n",
    "\n",
    "    nuevas_filas = pd.DataFrame({'Metropolitan area': ['Chicago','Los Angeles','San Francisco Bay Area','New York City'],\n",
    "                                 'Population': ['9512999','13310447','6657982','20153634'],\n",
    "                                 'MLB':['Cubs','Dodgers','Giants','Yankees']\n",
    "                                })\n",
    "    \n",
    "    cities_clean = pd.concat([cities_clean, nuevas_filas], ignore_index=True)\n",
    "    cities_clean['Population'] = pd.to_numeric(cities_clean['Population'], errors='coerce')\n",
    "\n",
    "    #merge dfs\n",
    "    df_merge = pd.merge(cities_clean, mlb_df_clean, on='MLB', how='right')\n",
    "    #una fila por area con Groupby\n",
    "    df_group=df_merge.groupby('Metropolitan area')\n",
    "    resultado_final=df_group.agg({'Population':np.mean,'MLB': np.size, 'W/L Ratio': np.mean}).sort_values(by='Population', ascending=False).reset_index()\n",
    "    \n",
    "    #raise NotImplementedError()\n",
    "    \n",
    "    population_by_region = list(resultado_final['Population']) # pass in metropolitan area population from cities\n",
    "    win_loss_by_region = list(resultado_final['W/L Ratio'])\n",
    "\n",
    "    assert len(population_by_region) == len(win_loss_by_region), \"Q3: Your lists must be the same length\"\n",
    "    assert len(population_by_region) == 26, \"Q3: There should be 26 teams being analysed for MLB\"\n",
    "\n",
    "    return stats.pearsonr(population_by_region, win_loss_by_region)[0]\n",
    "mlb_correlation()"
   ]
  },
  {
   "cell_type": "code",
   "execution_count": null,
   "metadata": {
    "deletable": false,
    "editable": false,
    "nbgrader": {
     "cell_type": "code",
     "checksum": "cda33b094ba19ccc37a481e0dd29e0bc",
     "grade": true,
     "grade_id": "cell-764d4476f425c5a2",
     "locked": true,
     "points": 20,
     "schema_version": 3,
     "solution": false
    }
   },
   "outputs": [],
   "source": []
  },
  {
   "attachments": {},
   "cell_type": "markdown",
   "metadata": {
    "deletable": false,
    "editable": false,
    "nbgrader": {
     "cell_type": "markdown",
     "checksum": "6977a6da9ed6d8b7a0b7e37bbeda709b",
     "grade": false,
     "grade_id": "cell-793df6c04dfb126e",
     "locked": true,
     "schema_version": 3,
     "solution": false
    }
   },
   "source": [
    "## Question 4\n",
    "For this question, calculate the win/loss ratio's correlation with the population of the city it is in for the **NFL** using **2018** data."
   ]
  },
  {
   "cell_type": "code",
   "execution_count": 260,
   "metadata": {
    "deletable": false,
    "nbgrader": {
     "cell_type": "code",
     "checksum": "c4914ad1e119278ec2bd567c52640b66",
     "grade": false,
     "grade_id": "cell-8ccebc209aeec8d9",
     "locked": false,
     "schema_version": 3,
     "solution": true
    }
   },
   "outputs": [
    {
     "name": "stderr",
     "output_type": "stream",
     "text": [
      "C:\\Users\\User\\AppData\\Local\\Temp\\ipykernel_10628\\69929925.py:33: FutureWarning: The provided callable <function mean at 0x0000028B6609BA60> is currently using SeriesGroupBy.mean. In a future version of pandas, the provided callable will be used directly. To keep current behavior pass the string \"mean\" instead.\n",
      "  resultado_final=df_group.agg({'Population':np.mean,'NFL': np.size, 'W/L Ratio': np.mean}).sort_values(by='Population', ascending=False).reset_index()\n",
      "C:\\Users\\User\\AppData\\Local\\Temp\\ipykernel_10628\\69929925.py:33: FutureWarning: The provided callable <function mean at 0x0000028B6609BA60> is currently using SeriesGroupBy.mean. In a future version of pandas, the provided callable will be used directly. To keep current behavior pass the string \"mean\" instead.\n",
      "  resultado_final=df_group.agg({'Population':np.mean,'NFL': np.size, 'W/L Ratio': np.mean}).sort_values(by='Population', ascending=False).reset_index()\n"
     ]
    },
    {
     "data": {
      "text/plain": [
       "0.004922112149349414"
      ]
     },
     "execution_count": 260,
     "metadata": {},
     "output_type": "execute_result"
    }
   ],
   "source": [
    "import pandas as pd\n",
    "import numpy as np\n",
    "import scipy.stats as stats\n",
    "import re\n",
    "\n",
    "def nfl_correlation(): \n",
    "\n",
    "    nfl_df=pd.read_csv(\"assets/nfl.csv\")\n",
    "    cities=pd.read_html(\"assets/wikipedia_data.html\")[1]\n",
    "    cities=cities.iloc[:-1,[0,3,5,6,7,8]]\n",
    "\n",
    "    nfl_df_clean=nfl_df[(nfl_df['year']==2018)&(~nfl_df['team'].str.contains(r'FC', regex=True, case=False))].iloc[:,[13,11,1]].reset_index(drop=True)\n",
    "    nfl_df_clean['team']=nfl_df_clean['team'].apply(lambda x: re.sub(r'[\\*\\+]', '', x).split()[-1])\n",
    "    nfl_df_clean['W/L Ratio']=nfl_df_clean['W'].astype(float)/(nfl_df_clean['W'].astype(float)+nfl_df_clean['L'].astype(float))\n",
    "    nfl_df_clean.rename(columns={\"team\": \"NFL\"}, inplace=True)\n",
    "\n",
    "    cities_clean=cities[(cities['NFL']!=chr(8212))&(~cities['NFL'].str.contains(r'^\\[note[^\\]]*\\]', regex=True, case=False))].iloc[:,[0,1,2]].drop(13).reset_index(drop=True)\n",
    "    cities_clean['NFL']=cities_clean['NFL'].apply(lambda x: re.sub(r'\\[[^\\]]*\\]', '', x).split()[-1])\n",
    "    cities_clean.rename(columns={\"Population (2016 est.)[8]\": \"Population\"}, inplace=True)\n",
    "\n",
    "    nuevas_filas = pd.DataFrame({'Metropolitan area': ['New York City','Los Angeles','San Francisco Bay Area'],\n",
    "                                 'Population': ['20153634','13310447','6657982'],\n",
    "                                 'NFL':['Giants','Rams','49ers']\n",
    "                                })\n",
    "\n",
    "    cities_clean = pd.concat([cities_clean, nuevas_filas], ignore_index=True)\n",
    "    cities_clean['Population'] = pd.to_numeric(cities_clean['Population'], errors='coerce')\n",
    "\n",
    "    #merge dfs\n",
    "    df_merge = pd.merge(cities_clean, nfl_df_clean, on='NFL', how='right')\n",
    "    #una fila por area con Groupby\n",
    "    df_group=df_merge.groupby('Metropolitan area')\n",
    "    resultado_final=df_group.agg({'Population':np.mean,'NFL': np.size, 'W/L Ratio': np.mean}).sort_values(by='Population', ascending=False).reset_index()\n",
    "    \n",
    "    #raise NotImplementedError()\n",
    "    \n",
    "    population_by_region = list(resultado_final['Population']) # pass in metropolitan area population from cities\n",
    "    win_loss_by_region = list(resultado_final['W/L Ratio'])\n",
    "\n",
    "    assert len(population_by_region) == len(win_loss_by_region), \"Q4: Your lists must be the same length\"\n",
    "    assert len(population_by_region) == 29, \"Q4: There should be 29 teams being analysed for NFL\"\n",
    "\n",
    "    return stats.pearsonr(population_by_region, win_loss_by_region)[0]\n",
    "nfl_correlation()"
   ]
  },
  {
   "cell_type": "code",
   "execution_count": null,
   "metadata": {
    "deletable": false,
    "editable": false,
    "nbgrader": {
     "cell_type": "code",
     "checksum": "e9415d6399aa49e3a1a60813afdefa3b",
     "grade": true,
     "grade_id": "cell-de7b148b9554dbda",
     "locked": true,
     "points": 20,
     "schema_version": 3,
     "solution": false
    }
   },
   "outputs": [],
   "source": []
  },
  {
   "attachments": {},
   "cell_type": "markdown",
   "metadata": {
    "deletable": false,
    "editable": false,
    "nbgrader": {
     "cell_type": "markdown",
     "checksum": "b02d5cd3273f561e4ae939bb2a41740c",
     "grade": false,
     "grade_id": "cell-97b49d8639e908c4",
     "locked": true,
     "schema_version": 3,
     "solution": false
    }
   },
   "source": [
    "## Question 5\n",
    "In this question I would like you to explore the hypothesis that **given that an area has two sports teams in different sports, those teams will perform the same within their respective sports**. How I would like to see this explored is with a series of paired t-tests (so use [`ttest_rel`](https://docs.scipy.org/doc/scipy/reference/generated/scipy.stats.ttest_rel.html)) between all pairs of sports. Are there any sports where we can reject the null hypothesis? Again, average values where a sport has multiple teams in one region. Remember, you will only be including, for each sport, cities which have teams engaged in that sport, drop others as appropriate. This question is worth 20% of the grade for this assignment."
   ]
  },
  {
   "cell_type": "code",
   "execution_count": 12,
   "metadata": {
    "deletable": false,
    "nbgrader": {
     "cell_type": "code",
     "checksum": "6d78c961eb66f8d8c81f06d33ae8f393",
     "grade": false,
     "grade_id": "cell-92f25f44b8d1179f",
     "locked": false,
     "schema_version": 3,
     "solution": true
    }
   },
   "outputs": [
    {
     "name": "stderr",
     "output_type": "stream",
     "text": [
      "C:\\Users\\User\\AppData\\Local\\Temp\\ipykernel_2956\\4048671786.py:33: FutureWarning: The provided callable <function mean at 0x000001EFDF78C180> is currently using SeriesGroupBy.mean. In a future version of pandas, the provided callable will be used directly. To keep current behavior pass the string \"mean\" instead.\n",
      "  NHL=df_group.agg({'Population':np.mean,'NHL': np.size, 'W/L Ratio': np.mean}).sort_values(by='Population', ascending=False).reset_index()\n",
      "C:\\Users\\User\\AppData\\Local\\Temp\\ipykernel_2956\\4048671786.py:33: FutureWarning: The provided callable <function mean at 0x000001EFDF78C180> is currently using SeriesGroupBy.mean. In a future version of pandas, the provided callable will be used directly. To keep current behavior pass the string \"mean\" instead.\n",
      "  NHL=df_group.agg({'Population':np.mean,'NHL': np.size, 'W/L Ratio': np.mean}).sort_values(by='Population', ascending=False).reset_index()\n",
      "C:\\Users\\User\\AppData\\Local\\Temp\\ipykernel_2956\\4048671786.py:55: FutureWarning: The provided callable <function mean at 0x000001EFDF78C180> is currently using SeriesGroupBy.mean. In a future version of pandas, the provided callable will be used directly. To keep current behavior pass the string \"mean\" instead.\n",
      "  NBA=df_group.agg({'Population':np.mean,'NBA': np.size, 'W/L Ratio': np.mean}).sort_values(by='Population', ascending=False).reset_index()\n",
      "C:\\Users\\User\\AppData\\Local\\Temp\\ipykernel_2956\\4048671786.py:55: FutureWarning: The provided callable <function mean at 0x000001EFDF78C180> is currently using SeriesGroupBy.mean. In a future version of pandas, the provided callable will be used directly. To keep current behavior pass the string \"mean\" instead.\n",
      "  NBA=df_group.agg({'Population':np.mean,'NBA': np.size, 'W/L Ratio': np.mean}).sort_values(by='Population', ascending=False).reset_index()\n",
      "C:\\Users\\User\\AppData\\Local\\Temp\\ipykernel_2956\\4048671786.py:76: FutureWarning: The provided callable <function mean at 0x000001EFDF78C180> is currently using SeriesGroupBy.mean. In a future version of pandas, the provided callable will be used directly. To keep current behavior pass the string \"mean\" instead.\n",
      "  MLB=df_group.agg({'Population':np.mean,'MLB': np.size, 'W/L Ratio': np.mean}).sort_values(by='Population', ascending=False).reset_index()\n",
      "C:\\Users\\User\\AppData\\Local\\Temp\\ipykernel_2956\\4048671786.py:76: FutureWarning: The provided callable <function mean at 0x000001EFDF78C180> is currently using SeriesGroupBy.mean. In a future version of pandas, the provided callable will be used directly. To keep current behavior pass the string \"mean\" instead.\n",
      "  MLB=df_group.agg({'Population':np.mean,'MLB': np.size, 'W/L Ratio': np.mean}).sort_values(by='Population', ascending=False).reset_index()\n",
      "C:\\Users\\User\\AppData\\Local\\Temp\\ipykernel_2956\\4048671786.py:97: FutureWarning: The provided callable <function mean at 0x000001EFDF78C180> is currently using SeriesGroupBy.mean. In a future version of pandas, the provided callable will be used directly. To keep current behavior pass the string \"mean\" instead.\n",
      "  NFL=df_group.agg({'Population':np.mean,'NFL': np.size, 'W/L Ratio': np.mean}).sort_values(by='Population', ascending=False).reset_index()\n",
      "C:\\Users\\User\\AppData\\Local\\Temp\\ipykernel_2956\\4048671786.py:97: FutureWarning: The provided callable <function mean at 0x000001EFDF78C180> is currently using SeriesGroupBy.mean. In a future version of pandas, the provided callable will be used directly. To keep current behavior pass the string \"mean\" instead.\n",
      "  NFL=df_group.agg({'Population':np.mean,'NFL': np.size, 'W/L Ratio': np.mean}).sort_values(by='Population', ascending=False).reset_index()\n"
     ]
    },
    {
     "data": {
      "text/html": [
       "<div>\n",
       "<style scoped>\n",
       "    .dataframe tbody tr th:only-of-type {\n",
       "        vertical-align: middle;\n",
       "    }\n",
       "\n",
       "    .dataframe tbody tr th {\n",
       "        vertical-align: top;\n",
       "    }\n",
       "\n",
       "    .dataframe thead th {\n",
       "        text-align: right;\n",
       "    }\n",
       "</style>\n",
       "<table border=\"1\" class=\"dataframe\">\n",
       "  <thead>\n",
       "    <tr style=\"text-align: right;\">\n",
       "      <th></th>\n",
       "      <th>NHL</th>\n",
       "      <th>NBA</th>\n",
       "      <th>NFL</th>\n",
       "      <th>MLB</th>\n",
       "    </tr>\n",
       "  </thead>\n",
       "  <tbody>\n",
       "    <tr>\n",
       "      <th>NHL</th>\n",
       "      <td>NaN</td>\n",
       "      <td>0.022297</td>\n",
       "      <td>0.000708</td>\n",
       "      <td>0.030883</td>\n",
       "    </tr>\n",
       "    <tr>\n",
       "      <th>NBA</th>\n",
       "      <td>0.022297</td>\n",
       "      <td>NaN</td>\n",
       "      <td>0.941792</td>\n",
       "      <td>0.950540</td>\n",
       "    </tr>\n",
       "    <tr>\n",
       "      <th>NFL</th>\n",
       "      <td>0.000708</td>\n",
       "      <td>0.941792</td>\n",
       "      <td>NaN</td>\n",
       "      <td>0.802069</td>\n",
       "    </tr>\n",
       "    <tr>\n",
       "      <th>MLB</th>\n",
       "      <td>0.030883</td>\n",
       "      <td>0.950540</td>\n",
       "      <td>0.802069</td>\n",
       "      <td>NaN</td>\n",
       "    </tr>\n",
       "  </tbody>\n",
       "</table>\n",
       "</div>"
      ],
      "text/plain": [
       "          NHL       NBA       NFL       MLB\n",
       "NHL       NaN  0.022297  0.000708  0.030883\n",
       "NBA  0.022297       NaN  0.941792  0.950540\n",
       "NFL  0.000708  0.941792       NaN  0.802069\n",
       "MLB  0.030883  0.950540  0.802069       NaN"
      ]
     },
     "execution_count": 12,
     "metadata": {},
     "output_type": "execute_result"
    }
   ],
   "source": [
    "import pandas as pd\n",
    "import numpy as np\n",
    "import scipy.stats as stats\n",
    "import re\n",
    "\n",
    "def sports_team_performance():\n",
    "\n",
    "    mlb_df=pd.read_csv(\"assets/mlb.csv\")\n",
    "    nhl_df=pd.read_csv(\"assets/nhl.csv\")\n",
    "    nba_df=pd.read_csv(\"assets/nba.csv\")\n",
    "    nfl_df=pd.read_csv(\"assets/nfl.csv\")\n",
    "    cities=pd.read_html(\"assets/wikipedia_data.html\")[1]\n",
    "    cities=cities.iloc[:-1,[0,3,5,6,7,8]]\n",
    "\n",
    "    nhl_df_clean=nhl_df[(nhl_df['year']==2018)&(~nhl_df['team'].str.contains(r'Division', regex=True, case=False))].iloc[:,[0,2,3]].reset_index(drop=True)\n",
    "    nhl_df_clean['team']=nhl_df_clean['team'].apply(lambda x: re.sub(r'\\*', '', x).split()[-1])\n",
    "    nhl_df_clean['W/L Ratio']=nhl_df_clean['W'].astype(float)/(nhl_df_clean['W'].astype(float)+nhl_df_clean['L'].astype(float))\n",
    "    nhl_df_clean.rename(columns={\"team\": \"NHL\"}, inplace=True)\n",
    "    \n",
    "    cities_clean=cities[(cities['NHL']!=chr(8212))&(~cities['NHL'].str.contains(r'^\\[note[^\\]]*\\]', regex=True, case=False))].iloc[:,[0,1,5]].reset_index(drop=True)\n",
    "    cities_clean['NHL']=cities_clean['NHL'].apply(lambda x: re.sub(r'\\[[^\\]]*\\]', '', x).split()[-1])\n",
    "    cities_clean.rename(columns={\"Population (2016 est.)[8]\": \"Population\"}, inplace=True)\n",
    "    \n",
    "    nuevas_filas = pd.DataFrame({'Metropolitan area': ['New York City', 'New York City', 'Los Angeles'],\n",
    "                                 'Population': ['20153634', '20153634', '13310447'],\n",
    "                                 'NHL':['Rangers','Islanders','Kings']\n",
    "                                })\n",
    "    cities_clean = pd.concat([cities_clean, nuevas_filas], ignore_index=True)\n",
    "    cities_clean['Population'] = pd.to_numeric(cities_clean['Population'], errors='coerce')\n",
    "    #merge dfs\n",
    "    df_merge = pd.merge(cities_clean, nhl_df_clean, on='NHL', how='right')\n",
    "    df_group=df_merge.groupby('Metropolitan area')\n",
    "    NHL=df_group.agg({'Population':np.mean,'NHL': np.size, 'W/L Ratio': np.mean}).sort_values(by='Population', ascending=False).reset_index()\n",
    "    #------------------------------------------------------------------------------------------------------------------------------------------------------\n",
    "    nba_df_clean=nba_df[(nba_df['year']==2018)].iloc[:,[0,1,2,3]].reset_index(drop=True)\n",
    "    nba_df_clean['team']=nba_df_clean['team'].apply(lambda x: re.sub(r'\\([^\\]]*\\)', '', x))\n",
    "    nba_df_clean['team']=nba_df_clean['team'].apply(lambda x: re.sub(r'\\*', '', x).split()[-1])\n",
    "    nba_df_clean['W/L Ratio']=nba_df_clean['W'].astype(float)/(nba_df_clean['W'].astype(float)+nba_df_clean['L'].astype(float))\n",
    "    nba_df_clean.rename(columns={\"team\": \"NBA\"}, inplace=True)\n",
    "\n",
    "    cities_clean=cities[(cities['NBA']!=chr(8212))&(~cities['NBA'].str.contains(r'^\\[note[^\\]]*\\]', regex=True, case=False))].iloc[:,[0,1,4]].reset_index(drop=True)\n",
    "    cities_clean['NBA']=cities_clean['NBA'].apply(lambda x: re.sub(r'\\[[^\\]]*\\]', '', x).split()[-1])\n",
    "    cities_clean.rename(columns={\"Population (2016 est.)[8]\": \"Population\"}, inplace=True)#cambiar nombre para mayor legibilidad\n",
    "\n",
    "    nuevas_filas = pd.DataFrame({'Metropolitan area': ['New York City','Los Angeles'],\n",
    "                                 'Population': ['20153634','13310447'],\n",
    "                                 'NBA':['Knicks','Lakers']\n",
    "                                })\n",
    "    cities_clean = pd.concat([cities_clean, nuevas_filas], ignore_index=True)\n",
    "    cities_clean['Population'] = pd.to_numeric(cities_clean['Population'], errors='coerce')\n",
    "    #merge dfs\n",
    "    df_merge = pd.merge(cities_clean, nba_df_clean, on='NBA', how='right')\n",
    "    #una fila por area con Groupby\n",
    "    df_group=df_merge.groupby('Metropolitan area')\n",
    "    NBA=df_group.agg({'Population':np.mean,'NBA': np.size, 'W/L Ratio': np.mean}).sort_values(by='Population', ascending=False).reset_index()\n",
    "    #-----------------------------------------------------------------------------------------------------------------------------------------------\n",
    "    mlb_df_clean=mlb_df[(mlb_df['year']==2018)].iloc[:,[0,1,2,3]].reset_index(drop=True)\n",
    "    mlb_df_clean['team']=mlb_df_clean['team'].apply(lambda x: x.split()[-1] if 'Sox' not in x else (x.split()[-2]+' '+x.split()[-1]) )\n",
    "    mlb_df_clean['W/L Ratio']=mlb_df_clean['W'].astype(float)/(mlb_df_clean['W'].astype(float)+mlb_df_clean['L'].astype(float))\n",
    "    mlb_df_clean.rename(columns={\"team\": \"MLB\"}, inplace=True)\n",
    "\n",
    "    cities_clean=cities[(cities['MLB']!=chr(8212))&(~cities['MLB'].str.contains(r'^\\[note[^\\]]*\\]', regex=True, case=False))].iloc[:,[0,1,3]].reset_index(drop=True)\n",
    "    cities_clean['MLB']=cities_clean['MLB'].apply(lambda x: re.sub(r'\\[[^\\]]*\\]', '', x).split()[-1] if 'Sox' not in x else (re.sub(r'\\[[^\\]]*\\]', '', x).split()[-2]+' '+re.sub(r'\\[[^\\]]*\\]', '', x).split()[-1]))\n",
    "    cities_clean.rename(columns={\"Population (2016 est.)[8]\": \"Population\"}, inplace=True)#cambiar nombre para mayor legibilidad\n",
    "\n",
    "    nuevas_filas = pd.DataFrame({'Metropolitan area': ['Chicago','Los Angeles','San Francisco Bay Area','New York City'],\n",
    "                                 'Population': ['9512999','13310447','6657982','20153634'],\n",
    "                                 'MLB':['Cubs','Dodgers','Giants','Yankees']\n",
    "                                })\n",
    "    cities_clean = pd.concat([cities_clean, nuevas_filas], ignore_index=True)\n",
    "    cities_clean['Population'] = pd.to_numeric(cities_clean['Population'], errors='coerce')\n",
    "    #merge dfs\n",
    "    df_merge = pd.merge(cities_clean, mlb_df_clean, on='MLB', how='right')\n",
    "    #una fila por area con Groupby\n",
    "    df_group=df_merge.groupby('Metropolitan area')\n",
    "    MLB=df_group.agg({'Population':np.mean,'MLB': np.size, 'W/L Ratio': np.mean}).sort_values(by='Population', ascending=False).reset_index()\n",
    "    #-------------------------------------------------------------------------------------------------------------------------------------------\n",
    "    nfl_df_clean=nfl_df[(nfl_df['year']==2018)&(~nfl_df['team'].str.contains(r'FC', regex=True, case=False))].iloc[:,[13,11,1]].reset_index(drop=True)\n",
    "    nfl_df_clean['team']=nfl_df_clean['team'].apply(lambda x: re.sub(r'[\\*\\+]', '', x).split()[-1])\n",
    "    nfl_df_clean['W/L Ratio']=nfl_df_clean['W'].astype(float)/(nfl_df_clean['W'].astype(float)+nfl_df_clean['L'].astype(float))\n",
    "    nfl_df_clean.rename(columns={\"team\": \"NFL\"}, inplace=True)\n",
    "\n",
    "    cities_clean=cities[(cities['NFL']!=chr(8212))&(~cities['NFL'].str.contains(r'^\\[note[^\\]]*\\]', regex=True, case=False))].iloc[:,[0,1,2]].drop(13).reset_index(drop=True)\n",
    "    cities_clean['NFL']=cities_clean['NFL'].apply(lambda x: re.sub(r'\\[[^\\]]*\\]', '', x).split()[-1])\n",
    "    cities_clean.rename(columns={\"Population (2016 est.)[8]\": \"Population\"}, inplace=True)\n",
    "\n",
    "    nuevas_filas = pd.DataFrame({'Metropolitan area': ['New York City','Los Angeles','San Francisco Bay Area'],\n",
    "                                 'Population': ['20153634','13310447','6657982'],\n",
    "                                 'NFL':['Giants','Rams','49ers']\n",
    "                                })\n",
    "    cities_clean = pd.concat([cities_clean, nuevas_filas], ignore_index=True)\n",
    "    cities_clean['Population'] = pd.to_numeric(cities_clean['Population'], errors='coerce')\n",
    "    #merge dfs\n",
    "    df_merge = pd.merge(cities_clean, nfl_df_clean, on='NFL', how='right')\n",
    "    #una fila por area con Groupby\n",
    "    df_group=df_merge.groupby('Metropolitan area')\n",
    "    NFL=df_group.agg({'Population':np.mean,'NFL': np.size, 'W/L Ratio': np.mean}).sort_values(by='Population', ascending=False).reset_index()\n",
    "    #----------------------------------------------------------------------------------------------------------------------------------------------\n",
    "    NHL['W/L Ratio'] = pd.to_numeric(NHL['W/L Ratio'], errors='coerce')\n",
    "    NBA['W/L Ratio'] = pd.to_numeric(NBA['W/L Ratio'], errors='coerce')\n",
    "    MLB['W/L Ratio'] = pd.to_numeric(MLB['W/L Ratio'], errors='coerce')\n",
    "    NFL['W/L Ratio'] = pd.to_numeric(NFL['W/L Ratio'], errors='coerce')\n",
    "    \n",
    "    dataframes = [NHL, NBA, MLB, NFL]\n",
    "    combinaciones = []\n",
    "    # Realiza combinaciones utilizando bucles anidados\n",
    "    for i in range(len(dataframes)):\n",
    "        for j in range(i+1, len(dataframes)):\n",
    "            # Realiza una operación de inner join entre los DataFrames i y j\n",
    "            combinacion = pd.merge(dataframes[i], dataframes[j], on='Metropolitan area', how='inner')\n",
    "            combinaciones.append(combinacion)\n",
    "            \n",
    "    combis=['NHL_NBA','NHL_MLB','NHL_NFL','NBA_MLB','NBA_NFL','MLB_NFL']\n",
    "    pvals=[]\n",
    "    for i in range(len(combinaciones)):\n",
    "        result_name=combis[i]\n",
    "        result_name=stats.ttest_rel(combinaciones[i]['W/L Ratio_x'],combinaciones[i]['W/L Ratio_y'])\n",
    "        pvals.append(result_name[1])\n",
    "    \n",
    "    p_values = pd.DataFrame()\n",
    "    p_values['NHL'] = [np.nan,pvals[0],pvals[1],pvals[2]]  \n",
    "    p_values['NBA'] = [pvals[0],np.nan,pvals[4],pvals[3]] \n",
    "    p_values['NFL'] = [pvals[1],pvals[4],np.nan,pvals[5]] \n",
    "    p_values['MLB'] = [pvals[2],pvals[3],pvals[5],np.nan]  \n",
    "    p_values = p_values.set_index(pd.Index(['NHL', 'NBA', 'NFL', 'MLB']))\n",
    "\n",
    "    #raise NotImplementedError()\n",
    "    \n",
    "    # Note: p_values is a full dataframe, so df.loc[\"NFL\",\"NBA\"] should be the same as df.loc[\"NBA\",\"NFL\"] and\n",
    "    # df.loc[\"NFL\",\"NFL\"] should return np.nan\n",
    "    #sports = ['NFL', 'NBA', 'NHL', 'MLB']\n",
    "    #p_values = pd.DataFrame({k:np.nan for k in sports}, index=sports)\n",
    "\n",
    "    assert abs(p_values.loc[\"NBA\", \"NHL\"] - 0.02) <= 1e-2, \"The NBA-NHL p-value should be around 0.02\"\n",
    "    assert abs(p_values.loc[\"MLB\", \"NFL\"] - 0.80) <= 1e-2, \"The MLB-NFL p-value should be around 0.80\"\n",
    "    return p_values\n",
    "sports_team_performance()"
   ]
  },
  {
   "cell_type": "code",
   "execution_count": null,
   "metadata": {
    "deletable": false,
    "editable": false,
    "nbgrader": {
     "cell_type": "code",
     "checksum": "2a596ab421a45cc01168d10e8fbb8f89",
     "grade": true,
     "grade_id": "cell-fb4b9cb5ff4570a6",
     "locked": true,
     "points": 20,
     "schema_version": 3,
     "solution": false
    }
   },
   "outputs": [],
   "source": []
  }
 ],
 "metadata": {
  "kernelspec": {
   "display_name": "Python 3 (ipykernel)",
   "language": "python",
   "name": "python3"
  },
  "language_info": {
   "codemirror_mode": {
    "name": "ipython",
    "version": 3
   },
   "file_extension": ".py",
   "mimetype": "text/x-python",
   "name": "python",
   "nbconvert_exporter": "python",
   "pygments_lexer": "ipython3",
   "version": "3.11.4"
  }
 },
 "nbformat": 4,
 "nbformat_minor": 4
}
